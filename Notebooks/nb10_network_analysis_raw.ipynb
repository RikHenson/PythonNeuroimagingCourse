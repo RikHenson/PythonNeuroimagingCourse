{
 "cells": [
  {
   "cell_type": "markdown",
   "metadata": {},
   "source": [
    "- **Created:** by Isaac Sebenius, inspired by work of Eduarda Centeno & Fernando Santos (see [Acknowledgements](#acknowledgements)), with small modifications by [Rik Henson](https://www.mrc-cbu.cam.ac.uk/people/rik.henson/) \n",
    "- **Date:** November 2024\n",
    "- **conda environment**: This uses the [mri environment](https://github.com/RikHenson/PythonNeuroimagingCourse/blob/main/mri_environment.yml)\n",
    "\n",
    "# Network (Graph) Analysis\n",
    "\n",
    "This notebook explains some concepts in network analysis (graph theory) using functional and structural connectomes.\n",
    "\n",
    "**This notebook uses data that you need to download the contents of the `networks` directory from [https://cloud.mrc-cbu.cam.ac.uk/index.php/s/3AFA0yF7QK9qIaO](https://cloud.mrc-cbu.cam.ac.uk/index.php/s/3AFA0yF7QK9qIaO) and put into your local `networks` directory created below.** The password for this cloud directory will be given by the course organiser.\n"
   ]
  },
  {
   "cell_type": "markdown",
   "metadata": {},
   "source": [
    "## 0. Getting Ready\n",
    "\n",
    "Usual python libraries, with new ones being `networkx` and `nxviz`"
   ]
  },
  {
   "cell_type": "code",
   "execution_count": null,
   "metadata": {
    "colab": {},
    "colab_type": "code",
    "id": "V3O2seQhpdlJ"
   },
   "outputs": [],
   "source": [
    "# Basic data manipulation and visualisation libraries\n",
    "import os\n",
    "import numpy \n",
    "import matplotlib.pyplot as plt\n",
    "# to show plots in cell\n",
    "%matplotlib inline   \n",
    "\n",
    "import seaborn \n",
    "import pandas\n",
    "from scipy import stats\n",
    "\n",
    "# For some graphics below\n",
    "from IPython.display import Image\n",
    "from IPython.core.display import HTML \n",
    "\n",
    "# Stop warnings about new versions of packages below\n",
    "import warnings\n",
    "warnings.filterwarnings('ignore') \n",
    "\n",
    "# For transferring python objects as byte streams across network\n",
    "import pickle\n",
    "\n",
    "# Network Libraries\n",
    "import networkx\n",
    "from nxviz import CircosPlot, circos\n",
    "import community"
   ]
  },
  {
   "cell_type": "markdown",
   "metadata": {},
   "source": [
    "And set-up our input and output directory:"
   ]
  },
  {
   "cell_type": "code",
   "execution_count": null,
   "metadata": {},
   "outputs": [],
   "source": [
    "wd = '/mnt/c/Users/rh01/PythonNeuroimagingCourse/FaceRecognition/' # <-- CHANGE TO YOURS\n",
    "out_dir = os.path.join(wd, 'networks')\n",
    "if not os.path.exists(out_dir):\n",
    "    os.makedirs(out_dir)\n",
    "os.chdir(out_dir)\n",
    "print(f\"Working directory currently {os.getcwd()}\")"
   ]
  },
  {
   "cell_type": "markdown",
   "metadata": {},
   "source": [
    "## 1. Importing data & exploring connectivity matrices\n",
    "\n",
    "These are three connectomes: 1) from fMRI, 2) from structural similarity (called Morphometric INverse Divergence or MIND) and 3) from diffusion tensor imaging (DTI), from each of 100 subjects.\n",
    "\n",
    "Our first step will be to import the data:"
   ]
  },
  {
   "cell_type": "code",
   "execution_count": null,
   "metadata": {},
   "outputs": [],
   "source": [
    "#Load individual data for 100 subjects from the HCP dataset\n",
    "fmri_connectivity = pickle.load(open('FCs.HCP.pkl','rb'))\n",
    "mind_connectivity = pickle.load(open('MIND.HCP.pkl','rb'))\n",
    "dti_connectivity = pickle.load(open('DTI.HCP.pkl','rb'))\n",
    "\n",
    "print(f\"{fmri_connectivity.shape[0]} subjects with {fmri_connectivity.shape[1]} x {fmri_connectivity.shape[2]} connectomes\")\n",
    "\n",
    "# Create a mask for connectome\n",
    "mask = numpy.ones(fmri_connectivity[0].shape)\n",
    "mask[numpy.diag_indices(360)] = numpy.nan\n",
    "\n",
    "# Compute group-averaged networks \n",
    "mean_fmri_connectivity = numpy.mean(fmri_connectivity, axis = 0)*mask\n",
    "mean_mind_connectivity = numpy.mean(mind_connectivity, axis = 0)*mask\n",
    "mean_dti_connectivity = numpy.mean(dti_connectivity, axis = 0)*mask"
   ]
  },
  {
   "cell_type": "markdown",
   "metadata": {},
   "source": [
    "We also need to know the names and coordinates of the 360 ROIs (and will assign them to random networks just for ease):"
   ]
  },
  {
   "cell_type": "code",
   "execution_count": null,
   "metadata": {},
   "outputs": [],
   "source": [
    "# Load region information\n",
    "region_information = pandas.read_csv('HCP-coordinates.csv')\n",
    "\n",
    "# Obtaining name of areas according to matching file\n",
    "lineList = list(region_information['regionName'].values.flatten())\n",
    "\n",
    "# Obtaining a random list of numbers to simulate subnetworks -- THESE NUMBERS DO NOT CORRESPOND TO ANY REAL CLASSIFICATION\n",
    "sublist = numpy.array(numpy.loadtxt('HCP_Yeo_symmetric.txt'))\n",
    "\n",
    "# Obtaining a random list of colors that will match the random subnetwork classification for further graphs \n",
    "cmap_dict = dict(zip(list(range(8)), seaborn.color_palette(\"tab10\", n_colors = 8)))\n",
    "\n",
    "# Obtaining a random list of colors (in numbers) that will match the random subnetwork classification for further graphs\n",
    "colorlist = numpy.array([cmap_dict[x] for x in sublist])\n",
    "colornumbs = numpy.array(colorlist.copy())#numpy.genfromtxt('./subnet_colors_number.txt')"
   ]
  },
  {
   "cell_type": "markdown",
   "metadata": {},
   "source": [
    "Let's look at what these group-averaged networks look like, using a standard heatmap"
   ]
  },
  {
   "cell_type": "code",
   "execution_count": null,
   "metadata": {},
   "outputs": [],
   "source": [
    "fig, ax = plt.subplots(1, 3, figsize = (15, 5))\n",
    "\n",
    "seaborn.heatmap(mean_fmri_connectivity, ax = ax[0], square = True, cbar_kws = {\"shrink\": 0.75})\n",
    "seaborn.heatmap(mean_mind_connectivity, ax = ax[1], square = True, cbar_kws = {\"shrink\": 0.75})\n",
    "seaborn.heatmap(mean_dti_connectivity, ax = ax[2], square = True, cbar_kws = {\"shrink\": 0.75})\n",
    "\n",
    "ax[0].set_title('Mean fMRI Connectivity')\n",
    "ax[1].set_title('Mean DTI Connectivity')\n",
    "ax[2].set_title('Mean MIND Connectivity')\n",
    "plt.show()"
   ]
  },
  {
   "cell_type": "markdown",
   "metadata": {},
   "source": [
    "The fMRI and DTI connectomes show high connectivity between homologous ROIs in left and right hemispheres, but the MIND does not (showing higher similarity within each hemisphere). \n",
    "\n",
    "We can also look at the similarity (correlation) between pairs of these modalities. Note that we are only correlating the upper right triangle of the matrix, since the matrices are symmetrical and the diagonal is meaningless here."
   ]
  },
  {
   "cell_type": "code",
   "execution_count": null,
   "metadata": {},
   "outputs": [],
   "source": [
    "print('DTI - fMRI connectivity edgewise correlation:', str(round(stats.pearsonr(mean_fmri_connectivity[numpy.triu_indices(360, k = 1)], mean_dti_connectivity[numpy.triu_indices(360, k = 1)])[0], 2)))\n",
    "print('MIND - fMRI edgewise correlation:', str(round(stats.pearsonr(mean_fmri_connectivity[numpy.triu_indices(360, k = 1)], mean_mind_connectivity[numpy.triu_indices(360, k = 1)])[0], 2)))\n",
    "print('DTI - MIND edgewise correlation:', str(round(stats.pearsonr(mean_mind_connectivity[numpy.triu_indices(360, k = 1)], mean_dti_connectivity[numpy.triu_indices(360, k = 1)])[0], 2)))"
   ]
  },
  {
   "cell_type": "markdown",
   "metadata": {},
   "source": [
    "which shows that DTI and MIND are least similar."
   ]
  },
  {
   "cell_type": "markdown",
   "metadata": {},
   "source": [
    "### 2. Deciding on edges\n",
    "\n",
    "When performing network analysis on brain data, some crucial decisions have to be made. \n",
    "\n",
    "One is whether to use all network connections - including low-weight edges (sometimes considered spurious connections), or establish an arbitrary threshold and keep only edges above a specific correlation value. This step can be done in different ways, based solely on the correlation threshold (as done here), or based on network density (eg, by keeping only the 20% strongest correlations). \n",
    "\n",
    "A seond decision is whether the edges will be weighted (keep their continuous connectivity values), or unweighted (binarised into present or absent only).\n",
    "\n",
    "Another decision is how to deal with negative weights in weighted networks (ie, are they meaningful?). \n",
    "\n",
    "These issues are covered in [Bassett & Sporns (2017)](https://pubmed.ncbi.nlm.nih.gov/28230844/)\n",
    "\n",
    "Later, we will threshold the top weighted connections, ignoring negative/low connections.\n",
    "\n",
    "Figure 1 provides a schematic summary of the types of network edges (note you will need internet connection to download image):"
   ]
  },
  {
   "cell_type": "markdown",
   "metadata": {},
   "source": [
    "![Network edges](https://www.mrc-cbu.cam.ac.uk/wp-content/uploads/www/sites/3/2024/12/networks_concepts-scaled.jpg) \n",
    "\n",
    "Figure 1. Types of networks. (A) A binary directed graph. (B) Binary, undirected graph. In binary graphs, the presence of a connection is signified by a 1 or 0 otherwise. (C) A representation of graph F as a network of brain areas. (D) A weighted, directed graph. (F) A weighted, undirected graph. In a weighted graph, the strength of the connections is represented by a number [0,1]. (G) A connectivity matrix of C and F. Source: Part of the image was obtained from [Smart Servier Medical Art](https://smart.servier.com/)."
   ]
  },
  {
   "cell_type": "markdown",
   "metadata": {},
   "source": [
    "To determine what type of edge is best, it can be useful to generate some plots (e.g., the heatmaps above for matrix visualisation, and distribution plots of edge weights) to facilitate data comprehension and flag potential artefacts. In brain networks, we expect mostly weak edges and a smaller proportion of strong ones. Let's see:"
   ]
  },
  {
   "cell_type": "code",
   "execution_count": null,
   "metadata": {},
   "outputs": [],
   "source": [
    "# Weight distribution plot\n",
    "def MinMax(X):\n",
    "    X_scaled = (X - X.min(axis=0)) / (X.max(axis=0) - X.min(axis=0))\n",
    "    print('Original Min:', X.min(axis=0), 'Max:', X.max(axis=0))\n",
    "    return X_scaled\n",
    "\n",
    "print('fMRI'); centiled_fmri_edges = MinMax(mean_fmri_connectivity[numpy.triu_indices(360, k =1)])\n",
    "print('DTI');  centiled_dti_edges  = MinMax(mean_dti_connectivity[numpy.triu_indices(360, k =1)])\n",
    "print('MIND'); centiled_mind_edges = MinMax(mean_mind_connectivity[numpy.triu_indices(360, k =1)])\n",
    "\n",
    "fig, ax = plt.subplots(1, 3, figsize = (15, 5))\n",
    "\n",
    "seaborn.histplot(centiled_fmri_edges, ax = ax[0])\n",
    "seaborn.histplot(centiled_dti_edges, ax = ax[2])\n",
    "seaborn.histplot(centiled_mind_edges, ax = ax[1])\n",
    "\n",
    "ax[0].set_xlabel('Scaled functional connectivity')\n",
    "ax[1].set_xlabel('Scaled DTI connectivity')\n",
    "ax[2].set_xlabel('Scaled MIND connectivity')\n",
    "plt.show();"
   ]
  },
  {
   "cell_type": "markdown",
   "metadata": {},
   "source": [
    "You can see that the distributions tend to be positively skewed (particularly fMRI), i.e, a small number of larger weights than expected from a Gaussian. The DTI distribution immediately illustrates zero-inflation, ie., a number of weights of 0, which may be important (or an artefact). The MIND distribution is bimodal, with a lot of weak connections. Depending on your knowledge of what the connection weights mean, you could for example choose (centiled) thresholds from the above distribution to remove zero or weaker connections."
   ]
  },
  {
   "cell_type": "markdown",
   "metadata": {},
   "source": [
    "## 2. Graph-theoretic summary measures\n",
    "\n",
    "The metrics that we will cover here are:\n",
    "- Density\n",
    "- Degree/Strength\n",
    "- Centrality: Eigenvector, Betweenness, Closeness, Degree, Page Rank\n",
    "- Path length\n",
    "- Modularity\n",
    "- Assortativity\n",
    "- Clustering coefficient\n",
    "\n",
    "Each of these metrics has its requisites for computation. For example, it is not possible to accurately compute closeness centrality and the average shortest path for fragmented networks (i.e., there are subsets of disconnected nodes). Therefore, keep that in mind when thinking about thresholding the connectivity matrix.\n",
    "\n",
    "Figure 2 illustrates some graph-theoretical metrics:"
   ]
  },
  {
   "cell_type": "markdown",
   "metadata": {},
   "source": [
    "![Figure 2](https://www.mrc-cbu.cam.ac.uk/wp-content/uploads/www/sites/3/2024/12/networks_graph_metrics-scaled.jpg)\n",
    "Figure 2. Graph theoretical metrics. (A) A representation of a graph indicating centralities. (B) Representation of modularity and clustering coefficient. (C) The shortest path between vertices A and B. (D) The minimum spanning tree."
   ]
  },
  {
   "cell_type": "markdown",
   "metadata": {},
   "source": [
    "### 2.1 Creating graph\n",
    "\n",
    "Let's create an undirected graph from the group-mean fMRI connectivity matrix, using the centiled weights above and the networkz library: "
   ]
  },
  {
   "cell_type": "code",
   "execution_count": null,
   "metadata": {},
   "outputs": [],
   "source": [
    "centiled_fc = numpy.zeros(mean_fmri_connectivity.shape)\n",
    "\n",
    "# Set upper triangle\n",
    "centiled_fc[numpy.triu_indices(360, k = 1)] = centiled_fmri_edges\n",
    "\n",
    "# Mirror to make symmetrical\n",
    "centiled_fc += centiled_fc.T\n",
    "\n",
    "matrix = centiled_fc.copy()\n",
    "G = networkx.from_numpy_array(matrix)\n",
    "\n",
    "# Removing self-loops\n",
    "G.remove_edges_from(list(networkx.selfloop_edges(G)))"
   ]
  },
  {
   "cell_type": "markdown",
   "metadata": {},
   "source": [
    "### 2.2 Network density\n",
    "\n",
    "<u>Definition</u>: A graph's density is the ratio between the number of edges and the total number of possible edges. You can get more information by uncommenting the document print statement in the following cells.\n",
    "\n",
    "Clearly, in all-to-all connected graphs, the density will be maximal (or 1), whereas for a graph without edges it will be 0. Here, just for the sake of demonstration, we will compute different thresholds to show how density changes."
   ]
  },
  {
   "cell_type": "code",
   "execution_count": null,
   "metadata": {},
   "outputs": [],
   "source": [
    "#print(networkx.density.__doc__)\n",
    "\n",
    "# Create graphs for comparison\n",
    "matrix2 = matrix.copy()\n",
    "matrix3 = matrix.copy()\n",
    "\n",
    "# Create sparser graphs\n",
    "matrix2[matrix2<=0.50] = 0\n",
    "matrix3[matrix3<=0.75] = 0\n",
    "\n",
    "alltoallG = G\n",
    "st50G = networkx.from_numpy_array(matrix2)\n",
    "st25G = networkx.from_numpy_array(matrix3)\n",
    "\n",
    "st50G.remove_edges_from(list(networkx.selfloop_edges(st50G)))\n",
    "st25G.remove_edges_from(list(networkx.selfloop_edges(st25G)))\n",
    "\n",
    "# Compute densities\n",
    "alltoall = networkx.density(G)\n",
    "st50 = networkx.density(st50G)\n",
    "st25 = networkx.density(st25G)\n",
    "\n",
    "names = ['All-To-All', '> 0.5', '> 0.75']\n",
    "values = [alltoall, st50, st25]\n",
    "\n",
    "dict(zip(names, values))"
   ]
  },
  {
   "cell_type": "markdown",
   "metadata": {},
   "source": [
    "### 2.3 Nodal degree/strength\n",
    "\n",
    "<u>Definition</u>: In undirected weighted networks the node strength can be computed as the sum of the connectivity weights of the edges attached to each node. It is a primary metric to identify how important is a node in the graph. It is possible to apply a normalization (divide the weights by 1/N-1) to make the output value more intuitive.  \n",
    "\n",
    "In degree computation, it is also common to compute the mean degree of the network, which is the sum of node degrees divides by the total number of nodes. We will use the full network, but you can see how this changes by using the sparser networks created above instead:"
   ]
  },
  {
   "cell_type": "code",
   "execution_count": null,
   "metadata": {},
   "outputs": [],
   "source": [
    "#print(networkx.degree.__doc__)\n",
    "\n",
    "G = alltoallG\n",
    "#G=st50G  # if you want to try sparser network instead\n",
    "\n",
    "strength = G.degree(weight='weight')\n",
    "strengths = {node: val for (node, val) in strength}\n",
    "networkx.set_node_attributes(G, dict(strength), 'strength') # Add as nodal attribute\n",
    "\n",
    "# Normalized node strength values 1/N-1\n",
    "normstrenghts = {node: val * 1/(len(G.nodes)-1) for (node, val) in strength}\n",
    "networkx.set_node_attributes(G, normstrenghts, 'strengthnorm') # Add as nodal attribute\n",
    "\n",
    "# Computing the mean degree of the network\n",
    "normstrengthlist = numpy.array([val * 1/(len(G.nodes)-1) for (node, val) in strength])\n",
    "mean_degree = numpy.sum(normstrengthlist)/len(G.nodes)\n",
    "print(f\"Mean degree is {mean_degree}\")\n",
    "\n",
    "seaborn.distplot(list(normstrengthlist), kde=True, norm_hist=False)\n",
    "plt.xlabel('Normalised Strength Values'); plt.ylabel('Counts');"
   ]
  },
  {
   "cell_type": "markdown",
   "metadata": {},
   "source": [
    "It is difficult to directly interpret the normalised strength values, but if we have binarised our graph instead, it would correspond to the mean degree, i.e. average number of other nodes connected to each node."
   ]
  },
  {
   "cell_type": "markdown",
   "metadata": {},
   "source": [
    "### 2.4 Centralities\n",
    "\n",
    "Centralities are frequently used to understand which nodes occupy critical positions in the network.\n",
    "\n",
    "<u>Definition</u>: The \"degree centrality\" for a node *v* is the fraction of nodes it is connected to. This metric is the same as node degree, so it will not be computed again. \n",
    "\n",
    "<u>Definition</u>: In weighted graphs, the \"closeness centrality\" of a node *v* is the reciprocal of the sum of the shortest weighted path distances from *v* to all *N-1* other nodes. An important thing to think about this metric is that a node with many low weight edges can have the same centrality as a node with only a few high-weighted edges. \n",
    "\n",
    "<u>Definition</u>: \"Betweenness centrality\" of a node *v* is the sum of the fraction of all-pairs shortest paths that pass through *v*. \n",
    "\n",
    "<u>Definition</u>: \"Eigenvector Centrality\": Eigenvector centrality computes the centrality for a node based on its neighbours' centrality. It takes into account not only quantity (e.g., degree centrality) but also quality. If a node is linked to many nodes that also display a high degree, that node will have high eigenvector centrality. \n",
    "\n",
    "<u>Definition</u>: \"PageRank\" computes a ranking of the nodes in the graph G based on the incoming links' structure. (This is the basis of some web search engines.)\n",
    "\n",
    "Again, you can get more information by uncommenting the document print statements in the following cells.\n",
    "\n",
    "We'll just plot closeness and betweeness centrality for moment:"
   ]
  },
  {
   "cell_type": "code",
   "execution_count": null,
   "metadata": {
    "colab": {},
    "colab_type": "code",
    "id": "WCqIzQf0pdl9"
   },
   "outputs": [],
   "source": [
    "#print(networkx.closeness_centrality.__doc__)\n",
    "\n",
    "# The function accepts an argument 'distance' that, in correlation-based networks, must be seen as the inverse ... \n",
    "# of the weight value. Thus, a high correlation value (e.g., 0.8) means a shorter distance (i.e., 0.2).\n",
    "G_distance_dict = {(e1, e2): 1 / abs(weight) for e1, e2, weight in G.edges(data='weight')}\n",
    "\n",
    "# Then add them as attribute to the graph edges\n",
    "networkx.set_edge_attributes(G, G_distance_dict, 'distance')\n",
    "\n",
    "# Computation of Closeness Centrality\n",
    "closeness = networkx.closeness_centrality(G, distance='distance')\n",
    "\n",
    "# Now we add the closeness centrality value as an attribute to the nodes\n",
    "networkx.set_node_attributes(G, closeness, 'closecent')\n",
    "\n",
    "# Closeness Centrality Histogram\n",
    "seaborn.distplot(list(closeness.values()), kde=True, norm_hist=False);\n",
    "plt.xlabel('Centrality Values'); plt.ylabel('Counts'); plt.title('Closeness Centrality');"
   ]
  },
  {
   "cell_type": "code",
   "execution_count": null,
   "metadata": {
    "colab": {},
    "colab_type": "code",
    "id": "sl-xV5lKpdmG"
   },
   "outputs": [],
   "source": [
    "#print(networkx.betweenness_centrality.__doc__)\n",
    "\n",
    "betweenness = networkx.betweenness_centrality(G, weight='distance', normalized=True) \n",
    "                                                                \n",
    "# Now we add the it as an attribute to the nodes\n",
    "#networkx.set_node_attributes(G, betweenness, 'bc')\n",
    "\n",
    "# Betweenness centrality Histogram\n",
    "seaborn.distplot(list(betweenness.values()), kde=False, norm_hist=False)\n",
    "plt.xlabel('Centrality Values'); plt.ylabel('Counts'); plt.title('Betweenness Centrality');"
   ]
  },
  {
   "cell_type": "markdown",
   "metadata": {},
   "source": [
    "Only a few nodes have high betweeness centrality, and these nodes are likely to have a big influence on rest of network (e.g, in terms of passing information from functional connectivity).\n",
    "\n",
    "You can plot eigenvector centrality and pagerank if you uncommment below, but there is not a lot we can take from these with comparison with other networks (e.g, you could compare these with those from the DTI or MIND networks...)"
   ]
  },
  {
   "cell_type": "code",
   "execution_count": null,
   "metadata": {
    "colab": {},
    "colab_type": "code",
    "id": "cUMdR0XGpdmK"
   },
   "outputs": [],
   "source": [
    "#print(networkx.eigenvector_centrality.__doc__)\n",
    "eigen = networkx.eigenvector_centrality(G, weight='weight')\n",
    "\n",
    "# Now we add the it as an attribute to the nodes\n",
    "networkx.set_node_attributes(G, eigen, 'eigen')\n",
    "\n",
    "# Eigenvector centrality Histogram\n",
    "#with warnings.catch_warnings():\n",
    "#    warnings.filterwarnings(\"ignore\", category=UserWarning) # suppress warning about old version of distplot\n",
    "#    seaborn.distplot(list(eigen.values()), kde=False, norm_hist=False);\n",
    "#plt.xlabel('Centrality Values'); plt.ylabel('Counts'); plt.title('Eigenvector Centrality');"
   ]
  },
  {
   "cell_type": "code",
   "execution_count": null,
   "metadata": {},
   "outputs": [],
   "source": [
    "#print(networkx.pagerank.__doc__)\n",
    "pagerank = networkx.pagerank(G, weight='weight')\n",
    "\n",
    "# Add as attribute to nodes\n",
    "networkx.set_node_attributes(G, pagerank, 'pg')\n",
    "\n",
    "# Page Rank Histogram\n",
    "#seaborn.distplot(list(pagerank.values()), kde=False, norm_hist=False);\n",
    "#plt.xlabel('Pagerank Values'); plt.ylabel('Counts'); plt.title('Pagerank');"
   ]
  },
  {
   "cell_type": "markdown",
   "metadata": {},
   "source": [
    "If you like, you can plot all the above metrics against each other (how redundant are they?) or repeat them with different sparsity levels."
   ]
  },
  {
   "cell_type": "markdown",
   "metadata": {},
   "source": [
    "### 2.5 Shortest path\n",
    "\n",
    "<u>Definition</u>: The \"shortest path\" is the smallest distance between two nodes in a graph. In a weighted graph it is obtained by the minimum sum of weights.\n",
    "\n",
    "<u>Definition</u>: The \"average Path Length\" is the average number of steps along the shortest paths for all possible pairs of network nodes. It is a measure of the efficiency of information or mass transport on a network.#\n",
    "\n",
    "There are several different algorithms for calculating these metrics efficiently - below we use the \"Dijkstra\" method, but you can try others by uncommenting (and timing with `time` if you like)"
   ]
  },
  {
   "cell_type": "code",
   "execution_count": null,
   "metadata": {
    "colab": {},
    "colab_type": "code",
    "id": "9yC3V9kPpdmT"
   },
   "outputs": [],
   "source": [
    "#print(networkx.shortest_path_length.__doc__)\n",
    "\n",
    "# This is a versatile version of the ones below in which one can define or not source and target. Remove the hashtag comment to use this version.\n",
    "#shortest_paths = networkx.shortest_path_length(G, weight='distance')\n",
    "\n",
    "# This one can also be used for a specific source and target:\n",
    "#print(networkx.dijkstra_path_length.__doc__)\n",
    "networkx.dijkstra_path_length(G, source=20, target=25, weight='distance')\n",
    "\n",
    "# Whereas this one is for all pairs. Remove the hashtag comment to use this version.\n",
    "#print(networkx.all_pairs_dijkstra_path_length.__doc__)\n",
    "#path_lengths = networkx.all_pairs_dijkstra_path_length(G, weight='distance')\n",
    "\n",
    "#print(networkx.average_shortest_path_length.__doc__)\n",
    "print(networkx.average_shortest_path_length(G, weight='distance'))"
   ]
  },
  {
   "cell_type": "markdown",
   "metadata": {},
   "source": [
    "Thus the average shortest path between two nodes in the fMRI network is around 3 nodes."
   ]
  },
  {
   "cell_type": "markdown",
   "metadata": {},
   "source": [
    "### 2.6 Module/community-level metrics\n",
    "\n",
    "<u>Definition</u>: Modularity compares the number of edges inside a cluster with the expected number of edges that one would find if the network was connected randomly but with the same number of nodes and node degrees. It is used to identify strongly connected subsets, i.e., modules or 'communities'. Again, there are several algorithms for defining; we will use the Louvain algorithm.\n",
    "\n",
    "<u>Definition</u>: Assortativity measures the similarity of connections in the graph with respect to the node degree.\n",
    "\n",
    "<u>Definition</u>: The Efficiency of a pair of nodes in a graph is the multiplicative inverse of the shortest path distance between the nodes.  More efficient means a shorter average path between nodes. \n",
    "\n",
    "<u>Definition</u>: Clustering Coefficient is a measure of the tendency for any two neighbours of a node to be directly connected. According to Networkx's documentation, weighted graphs' clustering coefficient is defined as the geometric average of the subgraph edge weights. \n",
    "\n",
    "<u>Definition</u>: A Small World Network is characterized by a small average shortest path length, and a large clustering coefficient. Small-worldness is commonly measured with the coefficient sigma or omega. Both coefficients compare the average clustering coefficient and shortest path length of a given graph against the same quantities for an equivalent random or lattice graph. \n",
    " \n",
    "<u>Definition</u>: The Minimum Spanning Tree is the backbone of a network, i.e. the minimum set of edges necessary to ensure that paths exist between all nodes. A few main algorithms are used to build the spanning tree, being the Kruskal's algorithm the one used by NetworkX. Briefly, this algorithm ranks the distance of the edges, adds the ones with the smallest distance first, and by adding edge-by-edge, it checks if cycles are formed or not. The algorithm will not add an edge that results in the formation of a cycle.\n",
    "\n",
    "We will start by defining the number of communities in the fMRI network. For these we will use the 50% sparse network (otherwise measures like efficiency will be close to maximum of 1)."
   ]
  },
  {
   "cell_type": "code",
   "execution_count": null,
   "metadata": {
    "colab": {},
    "colab_type": "code",
    "id": "VbxQWW7Dpdme"
   },
   "outputs": [],
   "source": [
    "#print(community.best_partition.__doc__)\n",
    "\n",
    "part = community.best_partition(st50G, weight='weight')\n",
    "\n",
    "coms = set(part.values()).union()\n",
    "print(f\"{len(coms)} communities found: {coms}\")\n",
    "\n",
    "# List each community associated with each node\n",
    "print(part)"
   ]
  },
  {
   "cell_type": "markdown",
   "metadata": {},
   "source": [
    "We can estimate some properties of these communities too:"
   ]
  },
  {
   "cell_type": "code",
   "execution_count": null,
   "metadata": {
    "colab": {},
    "colab_type": "code",
    "id": "92lYxPrwpdmk"
   },
   "outputs": [],
   "source": [
    "print(f\"Global Efficiency = {networkx.global_efficiency(st50G)}\")\n",
    "\n",
    "clustering = networkx.clustering(st50G, weight='weight')\n",
    "clustering = numpy.array(list(clustering.values()))\n",
    "print(f\"Mean Clustering Coefficient = {numpy.mean(clustering)}\")\n",
    "\n",
    "#Takes a very long time if you want to uncommment!\n",
    "#small_worldness = networkx.sigma(st50G, niter=100, nrand=10, seed=None)\n",
    "#print(f\"Small-worldness = {small_worldness}\")"
   ]
  },
  {
   "cell_type": "markdown",
   "metadata": {},
   "source": [
    "## 3 Network visualisation\n",
    "\n",
    "Under this section we we'll provide a few ideas of how to visualise and present your network."
   ]
  },
  {
   "cell_type": "markdown",
   "metadata": {},
   "source": [
    "First, let's get some important attributes about brain area names and subnetworks:"
   ]
  },
  {
   "cell_type": "code",
   "execution_count": null,
   "metadata": {
    "colab": {},
    "colab_type": "code",
    "id": "uaWDV3b7pdm6"
   },
   "outputs": [],
   "source": [
    "# Function to transform our list of brain areas into a dictionary\n",
    "def Convert(lst): \n",
    "    res_dct = {i : lst[i] for i in range(0, len(lst))} \n",
    "    return res_dct\n",
    "\n",
    "# Add brain areas as attribute of nodes\n",
    "networkx.set_node_attributes(G, Convert(lineList), 'area')\n",
    "\n",
    "# Add node colors\n",
    "networkx.set_node_attributes(G, Convert(colorlist), 'color')\n",
    "\n",
    "# Add subnetwork attribute\n",
    "networkx.set_node_attributes(G, Convert(sublist), 'subnet')\n",
    "\n",
    "# Add node color numbers\n",
    "networkx.set_node_attributes(G, Convert(colornumbs), 'colornumb')"
   ]
  },
  {
   "cell_type": "markdown",
   "metadata": {
    "colab_type": "text",
    "id": "Pue9PiOcpdm-"
   },
   "source": [
    "### 3.1 Spring plot\n",
    "\n",
    "Now we will create a standard spring network plot, but this could also be made circular by changing to *draw_circular*. We'll return to the fully-connected G network (since defining the minimumum spanning tree later can fail if network not dense enough).\n",
    "\n",
    "We defined the edge widths to the power of 2 so that weak weights will have smaller widths."
   ]
  },
  {
   "cell_type": "code",
   "execution_count": null,
   "metadata": {},
   "outputs": [],
   "source": [
    "# Standard Network graph with nodes in proportion to Graph degrees\n",
    "plt.figure(figsize=(30,30))\n",
    "edgewidth = [ d['weight'] for (u,v,d) in G.edges(data=True)]\n",
    "pos = networkx.spring_layout(G, scale=5)\n",
    "networkx.draw(G, pos, with_labels=True, width=numpy.power(edgewidth, 2), edge_color='grey', node_size=normstrengthlist*20000, \n",
    "        labels=Convert(lineList), font_color='black', node_color=colornumbs/10, cmap=plt.cm.Spectral, alpha=0.7, font_size=9)\n",
    "#plt.savefig('network.jpeg')"
   ]
  },
  {
   "cell_type": "markdown",
   "metadata": {},
   "source": [
    "Obviously that is WAY too much information. Let's visualise the Minimum Spanning Tree instead. \n",
    "\n",
    "### 3.2 Minimum Spanning Tree"
   ]
  },
  {
   "cell_type": "code",
   "execution_count": null,
   "metadata": {},
   "outputs": [],
   "source": [
    "GMST = networkx.minimum_spanning_tree(G, weight='distance')\n",
    "\n",
    "plt.figure(figsize=(15,15))\n",
    "networkx.draw(GMST, with_labels=True, alpha=0.7, labels=Convert(lineList), font_size=9)\n",
    "#networkx.draw(GMST, with_labels=True, width=numpy.power(edgewidth, 0.5), edge_color='grey', node_size=normstrengthlist*200, \n",
    "#        labels=Convert(lineList), font_color='black', node_color=colornumbs/10, cmap=plt.cm.Spectral, alpha=0.7, font_size=9)"
   ]
  },
  {
   "cell_type": "markdown",
   "metadata": {
    "colab_type": "text",
    "id": "aO2VyMxUpdnD"
   },
   "source": [
    "### 3.3 Circular plots\n",
    "\n",
    "For the sake of a less overwhelming plot, we will work with the minimum spanning tree for the CircosPlot."
   ]
  },
  {
   "cell_type": "code",
   "execution_count": null,
   "metadata": {},
   "outputs": [],
   "source": [
    "networkx.set_node_attributes(GMST, dict(GMST.degree(weight='weight')), 'strength')\n",
    "\n",
    "networkx.set_node_attributes(GMST, Convert(lineList), 'area')\n",
    "\n",
    "networkx.set_node_attributes(GMST, Convert(colorlist), 'color')\n",
    "\n",
    "networkx.set_node_attributes(GMST, Convert(sublist), 'subnet')\n",
    "\n",
    "G_distance_dict2 = {(e1, e2): 1 / abs(weight) for e1, e2, weight in GMST.edges(data='weight')}\n",
    "\n",
    "# Then add them as attributes to the graph\n",
    "networkx.set_edge_attributes(GMST, G_distance_dict2, 'distance')\n",
    "\n",
    "GMST_GRL = networkx.relabel_nodes(GMST, {i: lineList[i] for i in range(len(lineList))})\n",
    "\n",
    "# CircosPlot\n",
    "fig, ax = plt.subplots(1,1,figsize = (30,30));\n",
    "circ = circos(GMST_GRL, edge_alpha_by=\"weight\", node_color_by=\"subnet\") #, node_labels=True, node_label_layout='rotation', node_order='subnet',\n",
    "                 # edge_color='weight', edge_width='weight', node_color='subnet', node_label_color=True, fontsize=10, \n",
    "                 # nodeprops={\"radius\": 2}, group_legend=True, group_label_offset=5)\n",
    "plt.show();"
   ]
  },
  {
   "cell_type": "markdown",
   "metadata": {
    "colab_type": "text",
    "id": "Qs9E_TfzpdnX"
   },
   "source": [
    "That is all for this notebook - have fun comparing the fMRI, DTI and MIND networks on the measures above, or relating these measures to properties of the subjects like age/sex (rather than looking at the average only). These properties can be found in the metadata CSV file:"
   ]
  },
  {
   "cell_type": "code",
   "execution_count": null,
   "metadata": {},
   "outputs": [],
   "source": [
    "metadata = pandas.read_csv('metadata.csv')\n",
    "print(metadata.head())"
   ]
  },
  {
   "cell_type": "markdown",
   "metadata": {},
   "source": [
    "## 4. Acknowledgements\n",
    "\n",
    "This tutorial is adapted from \"Centeno, E.G.Z., Moreni, G., Vriend, C. et al. A hands-on tutorial on network and topological neuroscience. Brain Struct Funct 227, 741–762 (2022).\"\n",
    "https://github.com/multinetlab-amsterdam/network_TDA_tutorial/tree/main."
   ]
  },
  {
   "cell_type": "code",
   "execution_count": null,
   "metadata": {},
   "outputs": [],
   "source": []
  }
 ],
 "metadata": {
  "colab": {
   "name": "NetAnalysis.ipynb",
   "provenance": []
  },
  "kernelspec": {
   "display_name": "Python 3 (ipykernel)",
   "language": "python",
   "name": "python3"
  },
  "language_info": {
   "codemirror_mode": {
    "name": "ipython",
    "version": 3
   },
   "file_extension": ".py",
   "mimetype": "text/x-python",
   "name": "python",
   "nbconvert_exporter": "python",
   "pygments_lexer": "ipython3",
   "version": "3.11.10"
  }
 },
 "nbformat": 4,
 "nbformat_minor": 4
}
