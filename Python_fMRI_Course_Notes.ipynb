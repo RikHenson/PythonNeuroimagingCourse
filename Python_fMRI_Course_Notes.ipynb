{
 "cells": [
  {
   "cell_type": "markdown",
   "metadata": {},
   "source": [
    "- **Author:** [Rik Henson](https://www.mrc-cbu.cam.ac.uk/people/rik.henson/) \n",
    "- **Date:** November 2024  \n",
    "- **Conda env files and notebooks**: https://github.com/RikHenson/PythonNeuroimagingCourse"
   ]
  },
  {
   "cell_type": "markdown",
   "metadata": {},
   "source": [
    "# Python_fMRI_Course\n",
    "\n",
    "This is a 3-day course on analysis of fMRI data using python freeware libraries, in the spirit of open and reproducible neuroimaging analyses.\n",
    "\n",
    "It covers: fMRI data organisation (in BIDS), basic image processing, data quality tests, preprocessing (fMRIPrep), statistics for neuroimaging, single-participant analysis, group analysis, ROI analysis, MVPA and functional connectivity.\n",
    "\n",
    "It uses Jupyter notebooks and fMRI data from 16 participants from this [OpenNeuro repository](https://openneuro.org/datasets/ds000117/versions/1.0.6)\n",
    "\n",
    "It does not cover the theory of fMRI analysis. There are many free online resources and videos for this, such as [https://www.youtube.com/watch?v=Psh-GovQLiI](https://www.youtube.com/watch?v=Psh-GovQLiI) for basic MR physics and [https://www.youtube.com/@principlesoffmri6920](https://www.youtube.com/@principlesoffmri6920) for fMRI analysis. However, I am happy to answer questions about theory throughout the course.\n",
    "\n",
    "Note it is heavy on programming, given the aim is to produce shareable pipelines/scripts – there are no GUIs, so you should only attend if competent or willing to learn programming in python.\n",
    "\n",
    "The 11 notebooks (nb00-nb10) and some other materials are available here: [https://github.com/RikHenson/PythonNeuroimagingCourse/](https://github.com/RikHenson/PythonNeuroimagingCourse/)  \n",
    "\n",
    "The interactive demonstrations work best under Unix, Linux or MacOS (e.g, by installing WSL for Windows; see ). This is particularly the case for fMRIPrep and MRIQC, which are run containerised as Apptainer (or Docker or Singularity), However, you can just read in a browser if easier, as explained below."
   ]
  }
 ],
 "metadata": {
  "kernelspec": {
   "display_name": "Python 3 (ipykernel)",
   "language": "python",
   "name": "python3"
  },
  "language_info": {
   "codemirror_mode": {
    "name": "ipython",
    "version": 3
   },
   "file_extension": ".py",
   "mimetype": "text/x-python",
   "name": "python",
   "nbconvert_exporter": "python",
   "pygments_lexer": "ipython3",
   "version": "3.11.10"
  }
 },
 "nbformat": 4,
 "nbformat_minor": 4
}
