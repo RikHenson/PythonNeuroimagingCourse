{
 "cells": [
  {
   "cell_type": "markdown",
   "metadata": {},
   "source": [
    "- **Author:** [Rik Henson](https://www.mrc-cbu.cam.ac.uk/people/rik.henson/) \n",
    "- **Date:** November 2024  \n",
    "- **Conda env files and notebooks**: https://github.com/RikHenson/PythonNeuroimagingCourse"
   ]
  },
  {
   "cell_type": "markdown",
   "metadata": {},
   "source": [
    "# Python_fMRI_Course\n",
    "\n",
    "This is a 3-day course on analysis of fMRI data using python freeware libraries, in the spirit of open and reproducible neuroimaging analyses.\n",
    "\n",
    "It covers: fMRI data organisation (in BIDS), basic image processing, data quality tests, preprocessing (fMRIPrep), statistics for neuroimaging, single-participant analysis, group analysis, ROI analysis, MVPA and functional connectivity.\n",
    "\n",
    "It uses Jupyter notebooks (ideally run from [Jupyter Lab](https://jupyterlab.readthedocs.io/en/stable/getting_started/installation.html)) and fMRI data from 16 participants from this [OpenNeuro repository](https://openneuro.org/datasets/ds000117/versions/1.0.6).\n",
    "\n",
    "It does not cover all the theory of fMRI analysis. There are many free online resources and videos for this, such as [https://www.youtube.com/watch?v=Psh-GovQLiI](https://www.youtube.com/watch?v=Psh-GovQLiI) for basic MR physics and [https://www.youtube.com/@principlesoffmri6920](https://www.youtube.com/@principlesoffmri6920) for fMRI analysis. However, I am happy to answer questions about theory throughout the course.\n",
    "\n",
    "Note it is heavy on programming, given the aim is to produce shareable pipelines/scripts – there are no GUIs, so you should only attend if competent or willing to learn programming in python.\n",
    "\n",
    "The 11 notebooks (nb00-nb10) and some other materials are available here: [https://github.com/RikHenson/PythonNeuroimagingCourse/](https://github.com/RikHenson/PythonNeuroimagingCourse/)  \n",
    "\n",
    "The interactive demonstrations work best under Unix, Linux or MacOS (e.g, by installing WSL for Windows; see [https://github.com/RikHenson/PythonNeuroimagingCourse/blob/main/fMRI_analysis_on_Windows.ipynb](https://github.com/RikHenson/PythonNeuroimagingCourse/blob/main/fMRI_analysis_on_Windows.ipynb)). This is particularly the case for fMRIPrep and MRIQC, which are run containerised to run with Apptainer (or with Docker), However, there are easier options if you do not want to run every stage in the notebooks, as explained below."
   ]
  },
  {
   "cell_type": "markdown",
   "metadata": {},
   "source": [
    "## Options for following course (and preparation required)\n",
    "\n",
    "The course is designed to be followed on your laptop.\n",
    "\n",
    "There are three ways to follow the course, from the simplest, but least interactive, to the more complex, but most interactive. Of course, you could follow the course with the simplest Option 1, and later install the packages needed to run interactively as Option 3 in your own time."
   ]
  },
  {
   "cell_type": "markdown",
   "metadata": {},
   "source": [
    "### Runtime Option 1 (simplest): Open HTML files on Browser\n",
    "\n",
    "If you are not able/willing to install Miniconda, Python and JupyterLab on your laptop, then you can just download the `*.html` files from https://github.com/RikHenson/PythonNeuroimagingCourse/Notebooks and display in a browser. However, you will not be able to run things interactively. "
   ]
  },
  {
   "cell_type": "markdown",
   "metadata": {},
   "source": [
    "### Runtime Option 2 (bit more complex): Open Notebooks in Jupyter Lab \n",
    "\n",
    "This involves running the `*ipynb` python notebooks in Jupyter Lab running in a Browser. Then you can run cells, edit code, change outputs, etc. \n",
    "\n",
    "For this, you need to install Miniconda and JupyterLab as explained below. However, unless you are running Unix/Linux(WSL)/MacOS, you will not be able to run the Apptainers used in Notebook 03 (nb03) - for this you need Option 3 below.\n",
    "\n",
    "1. Install Miniconda from here: https://docs.anaconda.com/miniconda/\n",
    "\n",
    "2. Open an “Anaconda Powershell Prompt (miniconda3)” terminal\n",
    "\n",
    "3. Change to the local directory where you downloaded everything from https://github.com/RikHenson/PythonNeuroimagingCourse/ (using “cd” command). \n",
    "\n",
    "4. Type `conda env create -f mri_environment.yml` to create your python environment needed for notebooks 01-10, and `conda env create -f stats_environment.yml` needed for notebook 00 (statistics).\n",
    "\n",
    "5. Install Jupyter Lab with `conda install -c conda-forge jupyterlab`\n",
    "\n",
    "Once above packages installed, each time you want to start a notebook from your terminal:\n",
    "\n",
    "1. Type `conda activate mri` (for notebooks 01-10) or `conda activate stats` (for notebook 00)\n",
    "\n",
    "2. Type `jupyter lab`. This will either open your default browser with Jupyter Lab running in a tab, or if it cannot, then it will provide a URL that you can copy and paste into a browser that you open yourself.\n",
    "\n",
    "3. From Jupyter Lab, open the relevant notebook(s) from the `File` menu, eg from the local directory where you downloaded the notebooks\n"
   ]
  },
  {
   "cell_type": "markdown",
   "metadata": {},
   "source": [
    "### Runtime Option 3 (most complex): Install Apptainers\n",
    "\n",
    "For this, you need to be running Linux, and follow the instructions in Section 2.2 of [https://github.com/RikHenson/PythonNeuroimagingCourse/blob/main/fMRI_analysis_on_Windows.ipynb](https://github.com/RikHenson/PythonNeuroimagingCourse/blob/main/fMRI_analysis_on_Windows.ipynb). This will allow you to run MRIQC and fMRIPrep in Notebook 03.\n",
    "\n",
    "Note that I have not tested any of the above options on Macs (sorry!).\n"
   ]
  },
  {
   "cell_type": "markdown",
   "metadata": {},
   "source": [
    "## Data\n",
    "\n",
    "If you plan to follow the course using Runtime Options 2 or 3 above, the data can be downloaded fMRI data from https://openneuro.org/datasets/ds000117, but **note the full dataset is large 455 GB**, so you might want to choose the second or third data option below. It can also take a long time to download, so you should do this in advance of the course.\n",
    "\n",
    "### Data Option 1 (easy, but needs lots of diskspace and time): \n",
    "\n",
    "If you have a lot of diskspace (and stable and fast connection!), you could simply download the full dataset directly via the above OpenNeuro website, but it is ~[**GB], so will take a long time. It also includes MEG, DWI and FLASH data, which are not needed for this course, so you could delete these afterwards (though they are in each of 16 subject directories…).\n",
    "\n",
    "### Data Option 2 (needs some diskspace and time): \n",
    "\n",
    "To save diskspace, you can download just the fMRI data by following the instructions in Section 3 of Notebook 01 (nb01), which uses a python library to download just the relevant fMRI directories for each of the 16 subjects. Note that even this subset of the data is still ~9 GB. Note this will also take some time, so do not leave until the day of the course to run this section of the notebook!\n",
    "\n",
    "### Data Option 3 (least diskspace and time): \n",
    "\n",
    "If you do not want to analyse all 16 subjects (eg in notebooks 03-04), you can download just the raw fMRI data (and structural MRI/fieldmap) for one subject (\"sub-15\"), again following instructions in Section 3 of Notebook 01 (nb01), which is just ~0.5GB. Then when it comes to group-level analyses in later notebooks, you can download pre-prepared beta/contrast images for all subjects from a **separate website that I will insert here soon!**"
   ]
  },
  {
   "cell_type": "markdown",
   "metadata": {},
   "source": [
    "## Course Schedule\n",
    "\n",
    "The course consists of 11 notebooks: nb00-10. These will mostly be run in order, except nb00 (see below). Each session will be approximately 3 hours, with a break half-way.\n",
    "\n",
    "### Session 1 (Day 1, AM): BIDS, Nibabel and fMRIPrep (nb01-nb03)\n",
    "\t\t\n",
    "This will cover how to organise and query your fMRI data in BIDS format (using `pybids`), how to do basic processing of images in python with `nibabel` and `nilearn`, and how to preprocess fMRI data using `fMRIPrep`.\n",
    "        \n",
    "Note that we will skip Section 2 of nb01 about how to convert raw (DICOM) data into BIDS, since the OpenNeuro data is already in BIDS format (though you might find that helpful for converting your own data to BIDS format).\n",
    "\n",
    "We will probably also skip first part of nb03 on quality control, just in the interests of time.\n",
    "        \n",
    "### Session 2 (Day 1, PM): Statistics (nb00)\n",
    "    \n",
    "This is a more theoretical session, introducing statistics from first principles, including permutation testing, multiple comparisons across smooth images, and working up to the generalised linear model for fMRI timeseries. We will not cover the last sections on heirarchical and mixed effects models (unless strong demand). (Note that you will need to activate the `stats` environment for this, not `mri` environment).\n",
    "\n",
    "### Session 3 (Day 2, AM): Single-subject (timeseries) statistics (nb04)\n",
    "\n",
    "This will cover \"first-level\" or single-subject analyses of fMRI timeseries using `nilearn` and estimating contrasts.\n",
    "\n",
    "### Session 4 (Day 2, PM): Group-level (random effects) statistics and ROI analysis (nb05-06)\n",
    "\n",
    "This will cover group-level T-tests and ANOVAs across subjects, for both whole-brain and ROI-based analyses.\n",
    "\n",
    "### Session 5 (Day 3, AM): MVPA (nb07-08)\n",
    "\n",
    "This will cover the theory (nb07) and application (nb08) of multi-voxel pattern analysis, using `scikit` machine-learning packages, both for ROIs and a whole-brain searchlight.\n",
    "\n",
    "### Session 6 (Day 3, PM): Connectivity and network analysis (nb09-10)\n",
    "\n",
    "This will cover functional connectivity between pairs of ROIs, including beta-series regression and atlas-based connectomes (nb09), and introduction to graph-theoretic analysis of networks (nb10)\n"
   ]
  },
  {
   "cell_type": "markdown",
   "metadata": {},
   "source": [
    "## Other Preparation\n",
    "\n",
    "This general video gives the background for the importance of open research, particularly in neuroimaging: [https://youtu.be/kTVtc7kjVQg](https://youtu.be/kTVtc7kjVQg)\n",
    "\n",
    "As above, you might want to watch some of these lectures for theoretical background (though there are a lot!): [https://www.youtube.com/@principlesoffmri6920 for fMRI analysis](https://www.youtube.com/@principlesoffmri6920 for fMRI analysis)\n",
    "\n",
    "Finally, it might even be worth running through some or all of the above notebooks in advance, which may prompt errors or questions for discussion during the course."
   ]
  },
  {
   "cell_type": "code",
   "execution_count": null,
   "metadata": {},
   "outputs": [],
   "source": []
  }
 ],
 "metadata": {
  "kernelspec": {
   "display_name": "Python 3 (ipykernel)",
   "language": "python",
   "name": "python3"
  },
  "language_info": {
   "codemirror_mode": {
    "name": "ipython",
    "version": 3
   },
   "file_extension": ".py",
   "mimetype": "text/x-python",
   "name": "python",
   "nbconvert_exporter": "python",
   "pygments_lexer": "ipython3",
   "version": "3.11.10"
  }
 },
 "nbformat": 4,
 "nbformat_minor": 4
}
